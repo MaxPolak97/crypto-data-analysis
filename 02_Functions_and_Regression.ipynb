{
 "cells": [
  {
   "cell_type": "markdown",
   "metadata": {},
   "source": [
    "## Basic Moving Average Crossover Strategy\n",
    "A Moving Average Crossover strategy is one of the simplest and most popular trading strategies. It involves two moving averages: a short-term moving average (like the 7-day moving average) and a long-term moving average (like the 30-day moving average). A buy signal is generated when the short-term moving average crosses above the long-term moving average, and a sell signal is generated when the short-term moving average crosses below the long-term moving average."
   ]
  },
  {
   "cell_type": "code",
   "execution_count": null,
   "metadata": {},
   "outputs": [],
   "source": [
    "import pandas as pd\n",
    "import numpy as np\n",
    "import plotly.graph_objects as go\n",
    "\n",
    "# Assuming df_btc is loaded and 7_Day_MA and 30_Day_MA have been calculated as per previous steps\n",
    "\n",
    "# Generating Buy, Sell, and Hold signals\n",
    "df_btc['crossover_strategy'] = np.where(df_btc['7_Day_MA'] > df_btc['30_Day_MA'], 'BUY', \n",
    "                                              np.where(df_btc['7_Day_MA'] < df_btc['30_Day_MA'], 'SELL', 'HOLD'))\n",
    "\n",
    "# Creating a Plotly figure\n",
    "fig = go.Figure()\n",
    "\n",
    "# Adding the closing price line\n",
    "fig.add_trace(go.Scatter(x=df_btc['Date'], y=df_btc['Close'], name='Bitcoin Close Price', line=dict(width=2)))\n",
    "\n",
    "# Adding the short-term moving average line\n",
    "fig.add_trace(go.Scatter(x=df_btc['Date'], y=df_btc['7_Day_MA'], name='7 Day MA', line=dict(width=2)))\n",
    "\n",
    "# Adding the long-term moving average line\n",
    "fig.add_trace(go.Scatter(x=df_btc['Date'], y=df_btc['30_Day_MA'], name='30 Day MA', line=dict(width=2)))\n",
    "\n",
    "# Adding Buy signal markers\n",
    "fig.add_trace(go.Scatter(mode='markers', x=df_btc[df_btc['crossover_strategy'] == 'BUY']['Date'], \n",
    "                         y=df_btc[df_btc['crossover_strategy'] == 'BUY']['Close'],\n",
    "                         marker=dict(color='Green', size=10, symbol='triangle-up'),\n",
    "                         name='Buy Signal'))\n",
    "\n",
    "# Adding Sell signal markers\n",
    "fig.add_trace(go.Scatter(mode='markers', x=df_btc[df_btc['crossover_strategy'] == 'SELL']['Date'], \n",
    "                         y=df_btc[df_btc['crossover_strategy'] == 'SELL']['Close'],\n",
    "                         marker=dict(color='Red', size=10, symbol='triangle-down'),\n",
    "                         name='Sell Signal'))\n",
    "\n",
    "# Updating layout and labels\n",
    "fig.update_layout(title='Bitcoin Price and Moving Averages Crossover Strategy',\n",
    "                  xaxis_title='Date',\n",
    "                  yaxis_title='Price',\n",
    "                  xaxis_rangeslider_visible=False)\n",
    "\n",
    "# Displaying the figure\n",
    "fig.show()\n"
   ]
  },
  {
   "cell_type": "markdown",
   "metadata": {},
   "source": [
    "## RELATIVE STRENGTH INDEX (RSI) INDICATOR\n",
    "The RSI is a popular technical analysis indicator used by many traders. It is used to analyse the momentum of a stock. It compares the recent gains with the recent losses. It gives an indication on the oversold or overbought condition of a stock."
   ]
  },
  {
   "cell_type": "code",
   "execution_count": null,
   "metadata": {},
   "outputs": [],
   "source": [
    "# Generating RSI-based trading signals\n",
    "df_btc['rsi_strategy'] = np.where(df_btc['RSI'] < 30, 'BUY', \n",
    "                                        np.where(df_btc['RSI'] > 70, 'SELL', 'HOLD'))\n",
    "\n",
    "# Creating a Plotly figure\n",
    "fig = go.Figure()\n",
    "\n",
    "# Adding the closing price line\n",
    "fig.add_trace(go.Scatter(x=df_btc['Date'], y=df_btc['Close'], name='Bitcoin Close Price', line=dict(width=2)))\n",
    "\n",
    "# Adding Buy signal markers\n",
    "fig.add_trace(go.Scatter(mode='markers', x=df_btc[df_btc['rsi_strategy'] == 'BUY']['Date'], \n",
    "                         y=df_btc[df_btc['rsi_strategy'] == 'BUY']['Close'],\n",
    "                         marker=dict(color='Green', size=10, symbol='triangle-up'),\n",
    "                         name='Buy Signal'))\n",
    "\n",
    "# Adding Sell signal markers\n",
    "fig.add_trace(go.Scatter(mode='markers', x=df_btc[df_btc['rsi_strategy'] == 'SELL']['Date'], \n",
    "                         y=df_btc[df_btc['rsi_strategy'] == 'SELL']['Close'],\n",
    "                         marker=dict(color='Red', size=10, symbol='triangle-down'),\n",
    "                         name='Sell Signal'))\n",
    "\n",
    "# Updating layout and labels\n",
    "fig.update_layout(title='Bitcoin Price and RSI Strategy',\n",
    "                  xaxis_title='Date',\n",
    "                  yaxis_title='Price',\n",
    "                  xaxis_rangeslider_visible=False)\n",
    "\n",
    "# Displaying the figure\n",
    "fig.show()"
   ]
  }
 ],
 "metadata": {
  "kernelspec": {
   "display_name": ".venv",
   "language": "python",
   "name": "python3"
  },
  "language_info": {
   "codemirror_mode": {
    "name": "ipython",
    "version": 3
   },
   "file_extension": ".py",
   "mimetype": "text/x-python",
   "name": "python",
   "nbconvert_exporter": "python",
   "pygments_lexer": "ipython3",
   "version": "3.10.7"
  }
 },
 "nbformat": 4,
 "nbformat_minor": 2
}
