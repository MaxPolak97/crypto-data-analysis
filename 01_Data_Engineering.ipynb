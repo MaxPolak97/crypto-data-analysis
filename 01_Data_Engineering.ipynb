{
 "cells": [
  {
   "cell_type": "code",
   "execution_count": null,
   "metadata": {},
   "outputs": [],
   "source": [
    "import pandas as pd\n",
    "import numpy as np\n",
    "import matplotlib.pyplot as plt\n",
    "import seaborn as sns\n",
    "import yfinance as yf\n",
    "import plotly.graph_objects as go\n",
    "\n",
    "import warnings\n",
    "warnings.simplefilter(\"ignore\", category=FutureWarning)"
   ]
  },
  {
   "cell_type": "markdown",
   "metadata": {},
   "source": [
    "# Step 1: Data Collection\n",
    "\n",
    "Obtain historical Bitcoin price data from Yahoo Finance from the last 5 years"
   ]
  },
  {
   "cell_type": "code",
   "execution_count": null,
   "metadata": {},
   "outputs": [],
   "source": [
    "crypto_symbol = 'BTC-USD'\n",
    "start_date = '2019-01-01'\n",
    "end_date = '2024-12-31'\n",
    "\n",
    "df_btc = yf.download(crypto_symbol, start=start_date, end=end_date)\n",
    "df_btc.head()"
   ]
  },
  {
   "cell_type": "markdown",
   "metadata": {},
   "source": [
    "# Step 2: Data Preprocessing\n",
    "Prepare the data through cleaning and preprocessing. Ensure the date column is in date-time format, remove duplicates, handle any missing values and check for outliers."
   ]
  },
  {
   "cell_type": "code",
   "execution_count": null,
   "metadata": {},
   "outputs": [],
   "source": [
    "# Resetting the index\n",
    "df_btc.reset_index(inplace=True)\n",
    "\n",
    "# Check for missing values and remove them if any\n",
    "df_btc.dropna(inplace=True)\n",
    "\n",
    "# Check for duplicate entries and remove them if any\n",
    "df_btc.drop_duplicates(inplace=True)\n",
    "\n",
    "# Drop duplicate columns\n",
    "df_btc.drop(columns=['Adj Close'], inplace=True)\n",
    "\n",
    "df_btc.head()"
   ]
  },
  {
   "cell_type": "code",
   "execution_count": null,
   "metadata": {},
   "outputs": [],
   "source": [
    "# Check the data types of the columns\n",
    "df_btc.info()"
   ]
  },
  {
   "cell_type": "code",
   "execution_count": null,
   "metadata": {},
   "outputs": [],
   "source": [
    "# Check summary statistics\n",
    "df_btc.describe()"
   ]
  },
  {
   "cell_type": "code",
   "execution_count": null,
   "metadata": {},
   "outputs": [],
   "source": [
    "# Candlestick chart to represent price movements of Bitcoin\n",
    "candlestick = go.Candlestick(x=df_btc['Date'], \n",
    "                             open=df_btc['Open'],  \n",
    "                             high=df_btc['High'], \n",
    "                             low=df_btc['Low'], \n",
    "                             close=df_btc['Close'])\n",
    "\n",
    "fig = go.Figure(data=[candlestick])\n",
    "\n",
    "fig.update_layout(title='Bitcoin Candlestick Chart', xaxis_title='Date', yaxis_title='Price', xaxis_rangeslider_visible=False)\n",
    "\n",
    "fig.show()\n"
   ]
  },
  {
   "cell_type": "markdown",
   "metadata": {},
   "source": [
    "## Step 3: Feature Engineering\n",
    "Generate meaningful features to capture Bitcoin price patterns. Common features include rolling averages, technical indicators, and sentiment scores from news or social media.\n",
    "\n",
    "### 1. Return Metrics\n",
    "- **Log Return:** The logarithmic return (also known as continuously compounded returns) is the difference in the log of closing prices, which approximates the continuously compounded return. Positive is typically good, indicating growth, while negative indicates a decline."
   ]
  },
  {
   "cell_type": "code",
   "execution_count": null,
   "metadata": {},
   "outputs": [],
   "source": [
    "# Log Returns\n",
    "df_btc['Log_Return'] = np.log(df_btc['Close'] / df_btc['Close'].shift(1))"
   ]
  },
  {
   "cell_type": "markdown",
   "metadata": {},
   "source": [
    "### 2. Volatility Measures\n",
    "- **Historical Volatility:** The standard deviation of log returns, representing how large the returns can be. Lower is often preferred for less risk, while higher can indicate more risk.\n",
    "- **Average True Range (ATR):** Represents market volatility and reflects the degree of price variation. Lower values suggest less volatility, while higher values can indicate increased risk or trading opportunity."
   ]
  },
  {
   "cell_type": "code",
   "execution_count": null,
   "metadata": {},
   "outputs": [],
   "source": [
    "# Calculate Historical Volatility\n",
    "df_btc['Hist_Volatility'] = df_btc['Log_Return'].rolling(window=21).std() * np.sqrt(252) # Assuming 21 trading days in a month\n",
    "\n",
    "# Average True Range (ATR)\n",
    "df_btc['True_Range'] = np.maximum(df_btc['High'] - df_btc['Low'], \n",
    "                                        np.maximum(np.abs(df_btc['High'] - df_btc['Close'].shift(1)), \n",
    "                                                   np.abs(df_btc['Low'] - df_btc['Close'].shift(1))))\n",
    "df_btc['ATR'] = df_btc['True_Range'].rolling(window=14).mean()"
   ]
  },
  {
   "cell_type": "markdown",
   "metadata": {},
   "source": [
    "### 3. Trend Indicators\n",
    "- **Weighted Close Price:** Averages the high, low, and double the close price. General sentiment depends on context and strategy.\n",
    "- **Momentum:** Indicates the strength and speed of a price movement. Positive values (upward trend) are generally good, while negative values indicate a potentially unfavorable downward trend.\n",
    "- **Moving Averages (MA7, MA30, EMA12, EMA26):** Averages prices over a specified period, smoothing price data. Crossings of different MAs (short-term vs. long-term) are used to identify potential trend reversals.\n",
    "- **Moving Average Convergence Divergence (MACD):** Indicates the relationship between two moving averages of a security's price. Values above the signal line or above zero are often seen as positive."
   ]
  },
  {
   "cell_type": "code",
   "execution_count": null,
   "metadata": {},
   "outputs": [],
   "source": [
    "# Weighted Close Price\n",
    "df_btc['Weighted_Close'] = (df_btc['High'] + df_btc['Low'] + df_btc['Close'] * 2) / 4\n",
    "\n",
    "# Momentum: Rate of change of the price\n",
    "df_btc['Momentum'] = df_btc['Close'] - df_btc['Close'].shift(4)\n",
    "\n",
    "# Calculate moving averages (MA) - short term\n",
    "df_btc['MA7'] = df_btc['Close'].rolling(window=7).mean()\n",
    "\n",
    "# Calculate moving averages (MA) - long term\n",
    "df_btc['MA30'] = df_btc['Close'].rolling(window=30).mean() \n",
    "\n",
    "# Exponential Moving Average (EMA) - short term\n",
    "df_btc['EMA12'] = df_btc['Close'].ewm(span=12, adjust=False).mean()\n",
    "\n",
    "# Exponential Moving Average (EMA) - long term\n",
    "df_btc['EMA26'] = df_btc['Close'].ewm(span=26, adjust=False).mean()\n",
    "\n",
    "# Moving Average Convergence Divergence (MACD)\n",
    "df_btc['MACD'] = df_btc['EMA12'] - df_btc['EMA26']\n",
    "\n",
    "# Signal line (9-day EMA of MACD)\n",
    "df_btc['Signal_Line'] = df_btc['MACD'].ewm(span=9, adjust=False).mean()\n",
    "\n",
    "# MACD Histogram\n",
    "df_btc['MACD_Histogram'] = df_btc['MACD'] - df_btc['Signal_Line']\n"
   ]
  },
  {
   "cell_type": "markdown",
   "metadata": {},
   "source": [
    "### 4. Oscillators\n",
    "- **Relative Strength Index (RSI):** Measures the speed and change of price movements. Values above 70 might indicate an overbought condition (bad), and below 30, an oversold condition (good).\n",
    "- **Money Flow Index (MFI):** Utilizes price and volume to predict the reliability of a trend. Above 80 can suggest overbought conditions (bad), while below 20 can indicate oversold conditions (good)."
   ]
  },
  {
   "cell_type": "code",
   "execution_count": null,
   "metadata": {},
   "outputs": [],
   "source": [
    "def compute_rsi(data, window):\n",
    "    diff = data.diff(1)\n",
    "    gain = (diff.where(diff > 0, 0)).fillna(0)\n",
    "    loss = (-diff.where(diff < 0, 0)).fillna(0)\n",
    "\n",
    "    avg_gain = gain.rolling(window=window).mean()\n",
    "    avg_loss = loss.rolling(window=window).mean()\n",
    "\n",
    "    rs = avg_gain / avg_loss\n",
    "    rsi = 100 - (100 / (1 + rs))\n",
    "    \n",
    "    return rsi"
   ]
  },
  {
   "cell_type": "code",
   "execution_count": null,
   "metadata": {},
   "outputs": [],
   "source": [
    "# Relative Strength Index (RSI)\n",
    "df_btc['RSI'] = compute_rsi(df_btc['Close'], window=14)\n",
    "\n",
    "# Money Flow Index (MFI)\n",
    "df_btc['Typical_Price'] = (df_btc['High'] + df_btc['Low'] + df_btc['Close']) / 3\n",
    "df_btc['Money_Flow'] = df_btc['Typical_Price'] * df_btc['Volume']\n",
    "df_btc['Money_Flow_Positive'] = np.where(df_btc['Typical_Price'] > df_btc['Typical_Price'].shift(1), \n",
    "                                               df_btc['Money_Flow'], 0)\n",
    "df_btc['Money_Flow_Negative'] = np.where(df_btc['Typical_Price'] < df_btc['Typical_Price'].shift(1), \n",
    "                                               df_btc['Money_Flow'], 0)\n",
    "df_btc['Money_Flow_Pos_14'] = df_btc['Money_Flow_Positive'].rolling(window=14).sum()\n",
    "df_btc['Money_Flow_Neg_14'] = df_btc['Money_Flow_Negative'].rolling(window=14).sum()\n",
    "df_btc['Money_Flow_Index'] = 100 * (df_btc['Money_Flow_Pos_14'] / \n",
    "                                          (df_btc['Money_Flow_Pos_14'] + df_btc['Money_Flow_Neg_14']))"
   ]
  },
  {
   "cell_type": "markdown",
   "metadata": {},
   "source": [
    "### 5. Other Metrics\n",
    "- **Bollinger Bands:** Identify the volatility and overbought/oversold levels. Prices near the upper band might suggest a sell signal (bad), and near the lower band a buy signal (good).\n",
    "- **Percentage Change in Close Price and Volume:** Indicates the rate of change from one period to another for volume and price. Positive changes might indicate increased interest (good), while negative changes suggest the opposite."
   ]
  },
  {
   "cell_type": "code",
   "execution_count": null,
   "metadata": {},
   "outputs": [],
   "source": [
    "# Bollinger Bands\n",
    "df_btc['Rolling_Mean'] = df_btc['Close'].rolling(window=20).mean()\n",
    "df_btc['Bollinger_High'] = df_btc['Rolling_Mean'] + (df_btc['Close'].rolling(window=20).std() * 2)\n",
    "df_btc['Bollinger_Low'] = df_btc['Rolling_Mean'] - (df_btc['Close'].rolling(window=20).std() * 2)\n",
    "\n",
    "# Calculate the percentage change in 'Close' price\n",
    "df_btc['Pct_Change_Close'] = df_btc['Close'].pct_change() * 100\n",
    "\n",
    "# Calculate the percentage change in 'Volume'\n",
    "df_btc['Pct_Change_Volume'] = df_btc['Volume'].pct_change() * 100"
   ]
  },
  {
   "cell_type": "code",
   "execution_count": null,
   "metadata": {},
   "outputs": [],
   "source": [
    "# Drop NaN values generated by moving averages and other features\n",
    "df_btc.dropna(inplace=True)\n",
    "\n",
    "# Save the data\n",
    "df_btc.to_csv('BTC_Price_and_Indicators_Data.csv', index=False)\n",
    "\n",
    "df_btc"
   ]
  },
  {
   "cell_type": "code",
   "execution_count": null,
   "metadata": {},
   "outputs": [],
   "source": [
    "import plotly.express as px\n",
    "\n",
    "# Plot the closing price over time\n",
    "fig_1 = px.line(df_btc, x='Date', y='Close', title='Bitcoin Closing Price Over Time')\n",
    "fig_1.update_xaxes(title_text='Date')\n",
    "fig_1.update_yaxes(title_text='Close Price (USD)')"
   ]
  },
  {
   "cell_type": "code",
   "execution_count": null,
   "metadata": {},
   "outputs": [],
   "source": [
    "# Plot the Volume over time\n",
    "fig_2 = px.line(df_btc, x='Date', y='Volume', title='Bitcoin Trading Volume Over Time')\n",
    "fig_2.update_xaxes(title_text='Date')\n",
    "fig_2.update_yaxes(title_text='Volume')\n",
    "fig_2.show()"
   ]
  },
  {
   "cell_type": "code",
   "execution_count": null,
   "metadata": {},
   "outputs": [],
   "source": [
    "# Plot the Moving Averages and Closing Price over time\n",
    "fig_3 = px.line(df_btc, x='Date', y=['Close', 'MA7', 'MA30'], title='Bitcoin Moving Averages and Close Price')\n",
    "fig_3.update_xaxes(title_text='Date')\n",
    "fig_3.update_yaxes(title_text='Price (USD)')\n",
    "fig_3.show()"
   ]
  },
  {
   "cell_type": "code",
   "execution_count": null,
   "metadata": {},
   "outputs": [],
   "source": [
    "# Plot the Historical Volatility over time\n",
    "fig_4 = px.line(df_btc, x='Date', y='Hist_Volatility', title='Bitcoin Historical Volatility Over Time')\n",
    "fig_4.update_xaxes(title_text='Date')\n",
    "fig_4.update_yaxes(title_text='Historical Volatility')\n",
    "fig_4.show()"
   ]
  },
  {
   "cell_type": "code",
   "execution_count": null,
   "metadata": {},
   "outputs": [],
   "source": []
  }
 ],
 "metadata": {
  "kernelspec": {
   "display_name": ".venv",
   "language": "python",
   "name": "python3"
  },
  "language_info": {
   "codemirror_mode": {
    "name": "ipython",
    "version": 3
   },
   "file_extension": ".py",
   "mimetype": "text/x-python",
   "name": "python",
   "nbconvert_exporter": "python",
   "pygments_lexer": "ipython3",
   "version": "3.10.7"
  }
 },
 "nbformat": 4,
 "nbformat_minor": 2
}
